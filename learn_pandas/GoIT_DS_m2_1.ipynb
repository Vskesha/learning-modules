{
 "cells": [
  {
   "cell_type": "code",
   "execution_count": 1,
   "id": "2af97ce8-ef5a-4603-b00b-0ac4257722ec",
   "metadata": {
    "tags": []
   },
   "outputs": [],
   "source": [
    "import pandas as pd"
   ]
  },
  {
   "cell_type": "markdown",
   "id": "a0ee915a-863c-4a05-b8ed-93086ca38ca9",
   "metadata": {},
   "source": [
    "# Pandas Series"
   ]
  },
  {
   "cell_type": "code",
   "execution_count": 2,
   "id": "66dbe271-e15d-45a6-8ea7-64580ff45da4",
   "metadata": {
    "tags": []
   },
   "outputs": [
    {
     "name": "stdout",
     "output_type": "stream",
     "text": [
      "0    2061.0\n",
      "1    2035.8\n",
      "2    2028.5\n",
      "3    2022.5\n",
      "4    2016.4\n",
      "dtype: float64\n"
     ]
    }
   ],
   "source": [
    "mountain_height = pd.Series([2061, 2035.8, 2028.5, 2022.5, 2016.4])\n",
    "print(mountain_height)"
   ]
  },
  {
   "cell_type": "code",
   "execution_count": 3,
   "id": "44a327fd-5136-4cb6-9e76-fecf1de03029",
   "metadata": {
    "tags": []
   },
   "outputs": [
    {
     "name": "stdout",
     "output_type": "stream",
     "text": [
      "Goverla           2061.0\n",
      "Brebeneskyl       2035.8\n",
      "Pip_Ivan          2028.5\n",
      "Petros            2022.5\n",
      "Gutin_Tomnatik    2016.4\n",
      "Name: Height, m, dtype: float64\n"
     ]
    }
   ],
   "source": [
    "mountain_height = pd.Series(\n",
    "    data = [2061, 2035.8, 2028.5, 2022.5, 2016.4],\n",
    "    index = ['Goverla', 'Brebeneskyl', 'Pip_Ivan', 'Petros', 'Gutin_Tomnatik'],\n",
    "    name = 'Height, m',\n",
    "    dtype = float\n",
    ")\n",
    "print(mountain_height)"
   ]
  },
  {
   "cell_type": "code",
   "execution_count": 4,
   "id": "48fc84cd-d23e-45b8-887a-91a72c3c5233",
   "metadata": {
    "tags": []
   },
   "outputs": [
    {
     "name": "stdout",
     "output_type": "stream",
     "text": [
      "2061.0\n",
      "2061.0\n"
     ]
    }
   ],
   "source": [
    "print(mountain_height[0])\n",
    "print(mountain_height['Goverla'])\n"
   ]
  },
  {
   "cell_type": "code",
   "execution_count": 5,
   "id": "bc253259-ab20-40c9-b258-471fddc17143",
   "metadata": {
    "tags": []
   },
   "outputs": [
    {
     "name": "stdout",
     "output_type": "stream",
     "text": [
      "Pip_Ivan          2028.5\n",
      "Goverla           2061.0\n",
      "Gutin_Tomnatik    2016.4\n",
      "Name: Height, m, dtype: float64\n"
     ]
    }
   ],
   "source": [
    "print(mountain_height[['Pip_Ivan', 'Goverla', 'Gutin_Tomnatik']]) "
   ]
  },
  {
   "cell_type": "code",
   "execution_count": 6,
   "id": "81833b3d-9f2b-4013-ad67-3de4b30f91b1",
   "metadata": {
    "tags": []
   },
   "outputs": [
    {
     "name": "stdout",
     "output_type": "stream",
     "text": [
      "Brebeneskyl    2035.8\n",
      "Pip_Ivan       2028.5\n",
      "Name: Height, m, dtype: float64\n",
      "==================================================\n",
      "Brebeneskyl    2035.8\n",
      "Pip_Ivan       2028.5\n",
      "Petros         2022.5\n",
      "Name: Height, m, dtype: float64\n"
     ]
    }
   ],
   "source": [
    "print(mountain_height[1:3])\n",
    "print('=' * 50)\n",
    "print(mountain_height['Brebeneskyl':'Petros'])"
   ]
  },
  {
   "cell_type": "code",
   "execution_count": 7,
   "id": "26f78c3f-c832-4dbe-92f6-57b4f1097b8c",
   "metadata": {
    "tags": []
   },
   "outputs": [
    {
     "name": "stdout",
     "output_type": "stream",
     "text": [
      "Goverla            True\n",
      "Brebeneskyl        True\n",
      "Pip_Ivan          False\n",
      "Petros            False\n",
      "Gutin_Tomnatik    False\n",
      "Name: Height, m, dtype: bool\n",
      "==================================================\n",
      "Goverla        2061.0\n",
      "Brebeneskyl    2035.8\n",
      "Name: Height, m, dtype: float64\n"
     ]
    }
   ],
   "source": [
    "print(mountain_height > 2030)\n",
    "print('=' * 50)\n",
    "print(mountain_height[mountain_height > 2030])"
   ]
  },
  {
   "cell_type": "code",
   "execution_count": 8,
   "id": "4c57126c-f33c-47ae-95a5-ceffaf2edfc2",
   "metadata": {
    "tags": []
   },
   "outputs": [
    {
     "name": "stdout",
     "output_type": "stream",
     "text": [
      "True\n"
     ]
    }
   ],
   "source": [
    "print('Goverla' in mountain_height)"
   ]
  },
  {
   "cell_type": "code",
   "execution_count": 9,
   "id": "9d822dd1-6ea3-4e20-8aa9-b9d6ff7813b4",
   "metadata": {
    "tags": []
   },
   "outputs": [
    {
     "name": "stdout",
     "output_type": "stream",
     "text": [
      "Brebeneskyl       2035.8\n",
      "Goverla           2061.0\n",
      "Gutin_Tomnatik    2016.4\n",
      "Petros            2022.5\n",
      "Pip_Ivan          2028.5\n",
      "Name: Height, m, dtype: float64\n"
     ]
    }
   ],
   "source": [
    "sorted_indexes = mountain_height.sort_index()\n",
    "print(sorted_indexes)"
   ]
  },
  {
   "cell_type": "code",
   "execution_count": 10,
   "id": "05175f7a-c371-456d-a411-66a4e5cb5f89",
   "metadata": {
    "tags": []
   },
   "outputs": [
    {
     "name": "stdout",
     "output_type": "stream",
     "text": [
      "Goverla           2061.0\n",
      "Brebeneskyl       2035.8\n",
      "Pip_Ivan          2028.5\n",
      "Petros            2022.5\n",
      "Gutin_Tomnatik    2016.4\n",
      "Name: Height, m, dtype: float64\n"
     ]
    }
   ],
   "source": [
    "mountain_height.sort_values(inplace=True, ascending=False)\n",
    "print(mountain_height)"
   ]
  },
  {
   "cell_type": "code",
   "execution_count": 11,
   "id": "892305c5-c34a-41e2-a035-a1009eb725ec",
   "metadata": {
    "tags": []
   },
   "outputs": [
    {
     "name": "stdout",
     "output_type": "stream",
     "text": [
      "Goverla           2061.0\n",
      "Brebenskyl        2035.8\n",
      "Pip_Ivan          2028.5\n",
      "Petros               NaN\n",
      "Gutin_Tomnatik       NaN\n",
      "Name: Height, m, dtype: float64\n",
      "==================================================\n",
      "Goverla           2061.0\n",
      "Brebenskyl        2035.8\n",
      "Pip_Ivan          2028.5\n",
      "Petros               0.0\n",
      "Gutin_Tomnatik       0.0\n",
      "Name: Height, m, dtype: float64\n"
     ]
    }
   ],
   "source": [
    "d = {\"Goverla\": 2061, \"Brebenskyl\": 2035.8, \"Pip_Ivan\": 2028.5}\n",
    "mountain_height = pd.Series(\n",
    "    d,\n",
    "    index=list(d.keys()) + ['Petros', 'Gutin_Tomnatik'],\n",
    "    name='Height, m',\n",
    "    dtype=float\n",
    ")\n",
    "print(mountain_height)\n",
    "print('='*50)\n",
    "mountain_height.fillna(value=0, inplace=True)\n",
    "print(mountain_height)"
   ]
  },
  {
   "cell_type": "markdown",
   "id": "82fa36c3-0f0f-4b0d-9aca-ca5c8d95dd4e",
   "metadata": {},
   "source": [
    "# Pandas DataFrame"
   ]
  },
  {
   "cell_type": "code",
   "execution_count": 12,
   "id": "2f44a235-fdb0-4d7a-b1a6-229206c01905",
   "metadata": {
    "tags": []
   },
   "outputs": [
    {
     "name": "stdout",
     "output_type": "stream",
     "text": [
      "            name                          email           phone  favorite\n",
      "1  Allen Raymond      nulla.ante@vestibul.co.uk  (992) 914-3792     False\n",
      "2    Chaim Lewis            dui.in@egetlacus.ca  (294) 840-6685     False\n",
      "3   Kennedy Lane  mattis.Cras@nonenimMauris.net  (542) 451-7038      True\n",
      "4     Wylie Pope              est@utquamvel.net  (692) 802-2949     False\n",
      "5  Cyrus Jackson         nibh@semsempererat.com  (501) 472-5218      True\n"
     ]
    }
   ],
   "source": [
    "contacts = pd.DataFrame(\n",
    "    {\n",
    "        'name': [\n",
    "            'Allen Raymond',\n",
    "            'Chaim Lewis',\n",
    "            'Kennedy Lane',\n",
    "            'Wylie Pope',\n",
    "            'Cyrus Jackson'\n",
    "        ],\n",
    "        'email': [\n",
    "            \"nulla.ante@vestibul.co.uk\",\n",
    "            \"dui.in@egetlacus.ca\",\n",
    "            \"mattis.Cras@nonenimMauris.net\",\n",
    "            \"est@utquamvel.net\",\n",
    "            \"nibh@semsempererat.com\",\n",
    "        ],\n",
    "        \"phone\": [\n",
    "            \"(992) 914-3792\",\n",
    "            \"(294) 840-6685\",\n",
    "            \"(542) 451-7038\",\n",
    "            \"(692) 802-2949\",\n",
    "            \"(501) 472-5218\",\n",
    "        ],\n",
    "        \"favorite\": [False, False, True, False, True],        \n",
    "    },\n",
    "    index=[1, 2, 3, 4, 5]\n",
    ")\n",
    "print(contacts)"
   ]
  },
  {
   "cell_type": "code",
   "execution_count": 13,
   "id": "7f9f74b3-4519-45b1-b046-c2eff26f3cd2",
   "metadata": {
    "tags": []
   },
   "outputs": [
    {
     "name": "stdout",
     "output_type": "stream",
     "text": [
      "1    Allen Raymond\n",
      "2      Chaim Lewis\n",
      "3     Kennedy Lane\n",
      "4       Wylie Pope\n",
      "5    Cyrus Jackson\n",
      "Name: name, dtype: object\n"
     ]
    }
   ],
   "source": [
    "print(contacts['name'])"
   ]
  },
  {
   "cell_type": "code",
   "execution_count": 14,
   "id": "882762db-f30b-47c6-bd55-6b7a2e727aee",
   "metadata": {
    "tags": []
   },
   "outputs": [
    {
     "name": "stdout",
     "output_type": "stream",
     "text": [
      "name                    Allen Raymond\n",
      "email       nulla.ante@vestibul.co.uk\n",
      "phone                  (992) 914-3792\n",
      "favorite                        False\n",
      "Name: 1, dtype: object\n"
     ]
    }
   ],
   "source": [
    "print(contacts.loc[1])"
   ]
  },
  {
   "cell_type": "code",
   "execution_count": 15,
   "id": "30a7ec8e-26eb-496a-aab3-14b4db3808e5",
   "metadata": {
    "tags": []
   },
   "outputs": [
    {
     "name": "stdout",
     "output_type": "stream",
     "text": [
      "name                Chaim Lewis\n",
      "email       dui.in@egetlacus.ca\n",
      "phone            (294) 840-6685\n",
      "favorite                  False\n",
      "Name: 2, dtype: object\n"
     ]
    }
   ],
   "source": [
    "print(contacts.iloc[1])"
   ]
  },
  {
   "cell_type": "code",
   "execution_count": 16,
   "id": "55ec45b3-57b9-49ef-afee-92d6cad25da6",
   "metadata": {
    "tags": []
   },
   "outputs": [
    {
     "name": "stdout",
     "output_type": "stream",
     "text": [
      "            name                      email           phone  favorite\n",
      "1  Allen Raymond  nulla.ante@vestibul.co.uk  (992) 914-3792     False\n",
      "2    Chaim Lewis        dui.in@egetlacus.ca  (294) 840-6685     False\n"
     ]
    }
   ],
   "source": [
    "print(contacts[0:2])"
   ]
  },
  {
   "cell_type": "code",
   "execution_count": 17,
   "id": "ab092e66-ede7-46a0-bc29-bf16119180e7",
   "metadata": {
    "tags": []
   },
   "outputs": [
    {
     "name": "stdout",
     "output_type": "stream",
     "text": [
      "            name                          email           phone  favorite\n",
      "3   Kennedy Lane  mattis.Cras@nonenimMauris.net  (542) 451-7038      True\n",
      "5  Cyrus Jackson         nibh@semsempererat.com  (501) 472-5218      True\n"
     ]
    }
   ],
   "source": [
    "print(contacts[contacts['favorite']])"
   ]
  },
  {
   "cell_type": "code",
   "execution_count": 18,
   "id": "c384e9b8-4527-4679-8563-6f5c57db4bb0",
   "metadata": {
    "tags": []
   },
   "outputs": [
    {
     "name": "stdout",
     "output_type": "stream",
     "text": [
      "            name                          email           phone  favorite\n",
      "0  Allen Raymond      nulla.ante@vestibul.co.uk  (992) 914-3792     False\n",
      "1    Chaim Lewis            dui.in@egetlacus.ca  (294) 840-6685     False\n",
      "2   Kennedy Lane  mattis.Cras@nonenimMauris.net  (542) 451-7038      True\n",
      "3     Wylie Pope              est@utquamvel.net  (692) 802-2949     False\n",
      "4  Cyrus Jackson         nibh@semsempererat.com  (501) 472-5218      True\n"
     ]
    }
   ],
   "source": [
    "users = pd.read_csv('users.csv')\n",
    "print(users)"
   ]
  },
  {
   "cell_type": "code",
   "execution_count": 19,
   "id": "c7da34ef-3058-406b-9578-a4d4274c0fc9",
   "metadata": {
    "tags": []
   },
   "outputs": [],
   "source": [
    "users.to_csv('contacts.csv', index=False)"
   ]
  },
  {
   "cell_type": "code",
   "execution_count": 20,
   "id": "f3ba18e2-dba2-44df-b42d-9c79705857bd",
   "metadata": {
    "tags": []
   },
   "outputs": [
    {
     "name": "stdout",
     "output_type": "stream",
     "text": [
      "      name country\n",
      "0  Michael  Canada\n",
      "1     John     USA\n",
      "2     Liza  Canada\n"
     ]
    }
   ],
   "source": [
    "persons = pd.read_excel('persons.xlsx')\n",
    "print(persons)"
   ]
  },
  {
   "cell_type": "code",
   "execution_count": 21,
   "id": "d3fcb7d2-8715-420b-a318-da7b0b9b039e",
   "metadata": {
    "tags": []
   },
   "outputs": [],
   "source": [
    "users.to_excel('contacts.xlsx', sheet_name='Contacts')"
   ]
  },
  {
   "cell_type": "code",
   "execution_count": 22,
   "id": "330acba2-9241-4873-85ed-29a3acf94fe1",
   "metadata": {
    "tags": []
   },
   "outputs": [
    {
     "name": "stdout",
     "output_type": "stream",
     "text": [
      "      name    country\n",
      "1  Michael     Canada\n",
      "2     John        USA\n",
      "3     Liza  Australia\n"
     ]
    }
   ],
   "source": [
    "employees = pd.read_json('./json/split.json', orient='split')\n",
    "print(employees)"
   ]
  },
  {
   "cell_type": "code",
   "execution_count": 23,
   "id": "7f33056e-080f-4303-9120-ab56acff050f",
   "metadata": {
    "tags": []
   },
   "outputs": [
    {
     "name": "stdout",
     "output_type": "stream",
     "text": [
      "      name    country\n",
      "0  Michael     Canada\n",
      "1     John        USA\n",
      "2     Liza  Australia\n"
     ]
    }
   ],
   "source": [
    "employees = pd.read_json('./json/records.json', orient='records')\n",
    "print(employees)"
   ]
  },
  {
   "cell_type": "code",
   "execution_count": 24,
   "id": "2371caf8-8d8b-4b13-8336-ec8c1af4f948",
   "metadata": {
    "tags": []
   },
   "outputs": [
    {
     "name": "stdout",
     "output_type": "stream",
     "text": [
      "      name    country\n",
      "1  Michael     Canada\n",
      "2     John        USA\n",
      "3     Liza  Australia\n"
     ]
    }
   ],
   "source": [
    "employees = pd.read_json('./json/index.json', orient='index')\n",
    "print(employees)"
   ]
  },
  {
   "cell_type": "code",
   "execution_count": 25,
   "id": "15afed88-0ba6-4fea-b3ee-1c0db249da4a",
   "metadata": {
    "tags": []
   },
   "outputs": [
    {
     "name": "stdout",
     "output_type": "stream",
     "text": [
      "      name    country\n",
      "1  Michael     Canada\n",
      "2     John        USA\n",
      "3     Liza  Australia\n"
     ]
    }
   ],
   "source": [
    "employees = pd.read_json('./json/columns.json', orient='columns')\n",
    "print(employees)"
   ]
  },
  {
   "cell_type": "code",
   "execution_count": 26,
   "id": "b012f334-3082-4114-a8e0-bf4772258784",
   "metadata": {
    "tags": []
   },
   "outputs": [
    {
     "name": "stdout",
     "output_type": "stream",
     "text": [
      "         0          1\n",
      "0  Michael     Canada\n",
      "1     John        USA\n",
      "2     Liza  Australia\n"
     ]
    }
   ],
   "source": [
    "employees = pd.read_json('./json/values.json', orient='values')\n",
    "print(employees)"
   ]
  },
  {
   "cell_type": "code",
   "execution_count": 27,
   "id": "b3a6b078-ca1f-4628-bd5e-7527c2ea5bd6",
   "metadata": {
    "tags": []
   },
   "outputs": [],
   "source": [
    "data = {\n",
    "    \"name\": {\"1\": \"Michael\", \"2\": \"John\", \"3\": \"Liza\"},\n",
    "    \"country\": {\"1\": \"Canada\", \"2\": \"USA\", \"3\": \"Australia\"}\n",
    "}\n",
    "employees = pd.DataFrame(data)\n",
    "employees.to_json('employees.json', orient='split', indent=4)"
   ]
  },
  {
   "cell_type": "code",
   "execution_count": 28,
   "id": "a18b237c-72b8-4011-99d1-d3a2ba5e17c5",
   "metadata": {
    "tags": []
   },
   "outputs": [
    {
     "name": "stdout",
     "output_type": "stream",
     "text": [
      "   Jan 2024 Change Programming language    Share  Trends\n",
      "0         1    NaN               Python   28.2 %  +0.5 %\n",
      "1         2    NaN                 Java  15.73 %  -0.9 %\n",
      "2         3    NaN           JavaScript   8.91 %  -0.6 %\n",
      "3         4      ↑                C/C++    6.8 %  -0.0 %\n",
      "4         5      ↓                   C#   6.67 %  -0.3 %\n"
     ]
    }
   ],
   "source": [
    "tmp = pd.read_html(\"https://statisticstimes.com/tech/top-computer-languages.php\", attrs={'id': 'table_id1'})\n",
    "print(tmp[0].head())"
   ]
  },
  {
   "cell_type": "code",
   "execution_count": 29,
   "id": "89e94c77-cc0d-4338-aa21-d5be46a85680",
   "metadata": {
    "tags": []
   },
   "outputs": [
    {
     "name": "stdout",
     "output_type": "stream",
     "text": [
      "0    1\n",
      "1    2\n",
      "2    3\n",
      "dtype: int64\n",
      "==================================================\n",
      "0    1\n",
      "1    2\n",
      "2    3\n",
      "3    4\n",
      "dtype: int64\n"
     ]
    }
   ],
   "source": [
    "data = pd.Series([1, 2, 3])\n",
    "print(data)\n",
    "print('='*50)\n",
    "data[3] = 4\n",
    "print(data)"
   ]
  },
  {
   "cell_type": "code",
   "execution_count": 30,
   "id": "30f31773-4212-44ff-bd50-960d64890959",
   "metadata": {
    "tags": []
   },
   "outputs": [
    {
     "name": "stdout",
     "output_type": "stream",
     "text": [
      "      name    country\n",
      "1  Michael     Canada\n",
      "2     John        USA\n",
      "3     Liza  Australia\n",
      "==================================================\n",
      "      name    country  age\n",
      "1  Michael     Canada   25\n",
      "2     John        USA   32\n",
      "3     Liza  Australia   19\n"
     ]
    }
   ],
   "source": [
    "data = {\n",
    "    \"name\": {\"1\": \"Michael\", \"2\": \"John\", \"3\": \"Liza\"},\n",
    "    \"country\": {\"1\": \"Canada\", \"2\": \"USA\", \"3\": \"Australia\"}\n",
    "}\n",
    "employees = pd.DataFrame(data)\n",
    "print(employees)\n",
    "print('='*50)\n",
    "employees['age'] = [25, 32, 19]\n",
    "print(employees)"
   ]
  },
  {
   "cell_type": "code",
   "execution_count": 31,
   "id": "b01b6366-d337-4201-b558-f14d003e9552",
   "metadata": {
    "tags": []
   },
   "outputs": [
    {
     "name": "stdout",
     "output_type": "stream",
     "text": [
      "<class 'pandas.core.frame.DataFrame'>\n"
     ]
    }
   ],
   "source": [
    "print(type(employees))"
   ]
  },
  {
   "cell_type": "code",
   "execution_count": 32,
   "id": "f3a4bb35-3a43-45f1-b078-64a834084788",
   "metadata": {
    "tags": []
   },
   "outputs": [
    {
     "name": "stdout",
     "output_type": "stream",
     "text": [
      "      name    country  age\n",
      "1  Michael     Canada   25\n",
      "2     John        USA   32\n",
      "3     Liza  Australia   19\n",
      "==================================================\n",
      "      name    country  age\n",
      "1  Michael     Canada   25\n",
      "2     John        USA   32\n",
      "3     Liza  Australia   19\n",
      "5     Jhon    Denmark   23\n"
     ]
    }
   ],
   "source": [
    "data = {\n",
    "    \"name\": {\"1\": \"Michael\", \"2\": \"John\", \"3\": \"Liza\"},\n",
    "    \"country\": {\"1\": \"Canada\", \"2\": \"USA\", \"3\": \"Australia\"},\n",
    "    \"age\": {\"1\": 25, \"2\": 32, \"3\": 19}\n",
    "}\n",
    "\n",
    "employees = pd.DataFrame(data)\n",
    "print(employees)\n",
    "print('=' * 50)\n",
    "\n",
    "new_employee = pd.Series([\"Jhon\", \"Denmark\", 23], [\"name\", \"country\", \"age\"])\n",
    "\n",
    "employees.loc[5] = new_employee\n",
    "print(employees)"
   ]
  }
 ],
 "metadata": {
  "kernelspec": {
   "display_name": "Python 3 (ipykernel)",
   "language": "python",
   "name": "python3"
  },
  "language_info": {
   "codemirror_mode": {
    "name": "ipython",
    "version": 3
   },
   "file_extension": ".py",
   "mimetype": "text/x-python",
   "name": "python",
   "nbconvert_exporter": "python",
   "pygments_lexer": "ipython3",
   "version": "3.11.5"
  }
 },
 "nbformat": 4,
 "nbformat_minor": 5
}
