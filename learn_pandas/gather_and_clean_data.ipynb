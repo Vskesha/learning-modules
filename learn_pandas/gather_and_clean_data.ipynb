{
 "cells": [
  {
   "cell_type": "code",
   "execution_count": 1,
   "id": "f7eafbfc-64c3-4b6c-920a-826634d15274",
   "metadata": {
    "tags": []
   },
   "outputs": [],
   "source": [
    "import pandas as pd"
   ]
  },
  {
   "cell_type": "code",
   "execution_count": 2,
   "id": "d3d1aac6-0adf-4554-9d85-abf9e0cfee47",
   "metadata": {
    "tags": []
   },
   "outputs": [
    {
     "name": "stdout",
     "output_type": "stream",
     "text": [
      "<class 'pandas.core.frame.DataFrame'>\n",
      "    Jan 2024 Change Programming language    Share  Trends\n",
      "0          1    NaN               Python   28.2 %  +0.5 %\n",
      "1          2    NaN                 Java  15.73 %  -0.9 %\n",
      "2          3    NaN           JavaScript   8.91 %  -0.6 %\n",
      "3          4      ↑                C/C++    6.8 %  -0.0 %\n",
      "4          5      ↓                   C#   6.67 %  -0.3 %\n",
      "5          6      ↑                    R   4.59 %  +0.6 %\n",
      "6          7      ↓                  PHP   4.54 %  -0.7 %\n",
      "7          8    NaN           TypeScript   2.92 %  +0.2 %\n",
      "8          9    NaN                Swift   2.77 %  +0.6 %\n",
      "9         10    NaN          Objective-C   2.34 %  +0.2 %\n",
      "10        11      ↑                 Rust   2.19 %  +0.3 %\n",
      "11        12      ↓                   Go   2.02 %  +0.1 %\n",
      "12        13    NaN               Kotlin   1.78 %  -0.0 %\n",
      "13        14    NaN               Matlab   1.59 %  -0.0 %\n",
      "14        15    NaN                 Ruby   1.03 %  +0.0 %\n",
      "15        16     ↑↑                  Ada   1.02 %  +0.2 %\n",
      "16        17     ↑↑                 Dart   0.99 %  +0.2 %\n",
      "17        18     ↓↓                  VBA   0.91 %  -0.1 %\n",
      "18        19     ↓↓           Powershell   0.91 %  +0.0 %\n",
      "19        20     ↑↑                  Lua   0.71 %  +0.1 %\n",
      "20        21      ↓                Scala   0.61 %  -0.0 %\n",
      "21        22      ↑                 Abap   0.54 %  +0.1 %\n",
      "22        23     ↓↓         Visual Basic   0.53 %  -0.1 %\n",
      "23        24    NaN                Julia   0.37 %  -0.0 %\n",
      "24        25    NaN               Groovy   0.33 %  -0.1 %\n",
      "25        26      ↑                 Perl    0.3 %  -0.1 %\n",
      "26        27      ↑              Haskell   0.28 %  -0.0 %\n",
      "27        28     ↓↓                Cobol   0.22 %  -0.2 %\n",
      "28        29    NaN        Delphi/Pascal   0.19 %  +0.2 %\n"
     ]
    }
   ],
   "source": [
    "tmp = pd.read_html(\"https://statisticstimes.com/tech/top-computer-languages.php\", attrs={'id': 'table_id1'})\n",
    "print(type(tmp[0]))\n",
    "print(tmp[0])"
   ]
  },
  {
   "cell_type": "code",
   "execution_count": 3,
   "id": "b6ea7f1d-472c-4cf7-acab-e75001074b1d",
   "metadata": {
    "tags": []
   },
   "outputs": [
    {
     "name": "stdout",
     "output_type": "stream",
     "text": [
      "0    1\n",
      "1    2\n",
      "2    3\n",
      "3    4\n",
      "dtype: int64\n"
     ]
    }
   ],
   "source": [
    "data = pd.Series([1, 2, 3])\n",
    "data[3] = 4\n",
    "print(data)"
   ]
  },
  {
   "cell_type": "code",
   "execution_count": 4,
   "id": "5607b119-d39b-4881-92b3-cd8509eeb5e2",
   "metadata": {
    "tags": []
   },
   "outputs": [
    {
     "name": "stdout",
     "output_type": "stream",
     "text": [
      "      name    country\n",
      "1  Michael     Canada\n",
      "2     John        USA\n",
      "3     Liza  Australia\n",
      "==================================================\n",
      "      name    country  age\n",
      "1  Michael     Canada   25\n",
      "2     John        USA   32\n",
      "3     Liza  Australia   19\n"
     ]
    }
   ],
   "source": [
    "data = {\n",
    "    \"name\": {\"1\": \"Michael\", \"2\": \"John\", \"3\": \"Liza\"},\n",
    "    \"country\": {\"1\": \"Canada\", \"2\": \"USA\", \"3\": \"Australia\"}\n",
    "}\n",
    "employees = pd.DataFrame(data)\n",
    "print(employees)\n",
    "print('='*50)\n",
    "employees['age'] = [25, 32, 19]\n",
    "print(employees)"
   ]
  },
  {
   "cell_type": "code",
   "execution_count": 5,
   "id": "7f8488c6-1cc0-4c67-80cc-f68e99a48116",
   "metadata": {
    "tags": []
   },
   "outputs": [
    {
     "name": "stdout",
     "output_type": "stream",
     "text": [
      "<class 'pandas.core.series.Series'>\n",
      "name          John\n",
      "country    Denmark\n",
      "age             23\n",
      "dtype: object\n"
     ]
    }
   ],
   "source": [
    "new_employee = pd.Series([\"John\", \"Denmark\", 23], [\"name\", \"country\", \"age\"])\n",
    "print(type(new_employee))\n",
    "print(new_employee)"
   ]
  },
  {
   "cell_type": "code",
   "execution_count": 6,
   "id": "fd556692-51be-4f24-9e3b-ad362723157f",
   "metadata": {
    "tags": []
   },
   "outputs": [
    {
     "name": "stdout",
     "output_type": "stream",
     "text": [
      "      name    country  age\n",
      "1  Michael     Canada   25\n",
      "2     John        USA   32\n",
      "3     Liza  Australia   19\n",
      "==================================================\n",
      "      name    country  age\n",
      "1  Michael     Canada   25\n",
      "2     John        USA   32\n",
      "3     Liza  Australia   19\n",
      "5     Jhon    Denmark   23\n"
     ]
    }
   ],
   "source": [
    "data = {\n",
    "    \"name\": {\"1\": \"Michael\", \"2\": \"John\", \"3\": \"Liza\"},\n",
    "    \"country\": {\"1\": \"Canada\", \"2\": \"USA\", \"3\": \"Australia\"},\n",
    "    \"age\": {\"1\": 25, \"2\": 32, \"3\": 19}\n",
    "}\n",
    "\n",
    "employees = pd.DataFrame(data)\n",
    "print(employees)\n",
    "print('=' * 50)\n",
    "\n",
    "new_employee = pd.Series([\"Jhon\", \"Denmark\", 23], [\"name\", \"country\", \"age\"])\n",
    "\n",
    "employees.loc[5] = new_employee\n",
    "print(employees)"
   ]
  },
  {
   "cell_type": "code",
   "execution_count": 7,
   "id": "bb8fa687-ca42-488c-a9fa-4dab84c0fd1d",
   "metadata": {
    "tags": []
   },
   "outputs": [
    {
     "name": "stdout",
     "output_type": "stream",
     "text": [
      "0    1\n",
      "1    2\n",
      "2    3\n",
      "3    4\n",
      "4    5\n",
      "dtype: int64\n",
      "==================================================\n",
      "0    1\n",
      "2    3\n",
      "4    5\n",
      "dtype: int64\n"
     ]
    }
   ],
   "source": [
    "numbers = pd.Series([1, 2, 3, 4, 5])\n",
    "print(numbers)\n",
    "print('='*50)\n",
    "numbers.drop([1, 3], inplace=True)\n",
    "print(numbers)"
   ]
  },
  {
   "cell_type": "code",
   "execution_count": 8,
   "id": "180d0e79-6c11-4d61-8f20-1be8ea25f413",
   "metadata": {
    "tags": []
   },
   "outputs": [
    {
     "name": "stdout",
     "output_type": "stream",
     "text": [
      "      name    country  age\n",
      "1  Michael     Canada   25\n",
      "2     John        USA   32\n",
      "3     Liza  Australia   19\n",
      "==================================================\n",
      "      name    country  age\n",
      "1  Michael     Canada   25\n",
      "3     Liza  Australia   19\n"
     ]
    }
   ],
   "source": [
    "data = {\n",
    "    \"name\": {\"1\": \"Michael\", \"2\": \"John\", \"3\": \"Liza\"},\n",
    "    \"country\": {\"1\": \"Canada\", \"2\": \"USA\", \"3\": \"Australia\"},\n",
    "    \"age\": {\"1\": 25, \"2\": 32, \"3\": 19}\n",
    "}\n",
    "employees = pd.DataFrame(data)\n",
    "print(employees)\n",
    "print('='*50)\n",
    "employees2 = employees.drop(['2'])\n",
    "print(employees2)"
   ]
  },
  {
   "cell_type": "code",
   "execution_count": 9,
   "id": "97dfd27f-b2b1-461b-b892-54448d2e3d38",
   "metadata": {
    "tags": []
   },
   "outputs": [
    {
     "name": "stdout",
     "output_type": "stream",
     "text": [
      "      name    country  age\n",
      "1  Michael     Canada   25\n",
      "2     John        USA   32\n",
      "3     Liza  Australia   19\n",
      "==================================================\n",
      "      name    country\n",
      "1  Michael     Canada\n",
      "2     John        USA\n",
      "3     Liza  Australia\n"
     ]
    }
   ],
   "source": [
    "employees3 = employees.drop(['age'], axis=1)\n",
    "print(employees)\n",
    "print('='*50)\n",
    "print(employees3)"
   ]
  },
  {
   "cell_type": "code",
   "execution_count": 10,
   "id": "9c8168b7-6971-4caa-9a46-a8542bf63ff4",
   "metadata": {
    "tags": []
   },
   "outputs": [
    {
     "name": "stdout",
     "output_type": "stream",
     "text": [
      "      name country  age\n",
      "1  Michael  Canada   25\n",
      "2     John     USA   32\n",
      "==================================================\n",
      "   name    country  age\n",
      "3  Liza  Australia   19\n",
      "4  Jhon    Denmark   23\n",
      "==================================================\n",
      "      name    country  age\n",
      "1  Michael     Canada   25\n",
      "2     John        USA   32\n",
      "3     Liza  Australia   19\n",
      "4     Jhon    Denmark   23\n"
     ]
    }
   ],
   "source": [
    "data1 = {\n",
    "    \"name\": {\"1\": \"Michael\", \"2\": \"John\"},\n",
    "    \"country\": {\"1\": \"Canada\", \"2\": \"USA\"},\n",
    "    \"age\": {\"1\": 25, \"2\": 32}\n",
    "}\n",
    "employees1 = pd.DataFrame(data1)\n",
    "data2 = {\n",
    "    \"name\": {\"3\": \"Liza\", \"4\": \"Jhon\"},\n",
    "    \"country\": {\"3\": \"Australia\", \"4\": \"Denmark\"},\n",
    "    \"age\": {\"3\": 19, \"4\": 23}\n",
    "}\n",
    "employees2 = pd.DataFrame(data2)\n",
    "\n",
    "employees = pd.concat([employees1, employees2])\n",
    "print(employees1)\n",
    "print('='*50)\n",
    "print(employees2)\n",
    "print('='*50)\n",
    "print(employees)"
   ]
  },
  {
   "cell_type": "code",
   "execution_count": 11,
   "id": "c0fd4250-b760-42ac-912c-1c6a2de2de2e",
   "metadata": {
    "tags": []
   },
   "outputs": [
    {
     "name": "stdout",
     "output_type": "stream",
     "text": [
      "      name    country\n",
      "1  Michael     Canada\n",
      "2     John        USA\n",
      "3     Liza  Australia\n",
      "4     Jhon    Denmark\n",
      "==================================================\n",
      "   age\n",
      "1   25\n",
      "2   32\n",
      "3   19\n",
      "4   23\n",
      "==================================================\n",
      "      name    country  age\n",
      "1  Michael     Canada   25\n",
      "2     John        USA   32\n",
      "3     Liza  Australia   19\n",
      "4     Jhon    Denmark   23\n"
     ]
    }
   ],
   "source": [
    "data1 = {\n",
    "    \"name\": {\"1\": \"Michael\", \"2\": \"John\", \"3\": \"Liza\", \"4\": \"Jhon\"},\n",
    "    \"country\": {\"1\": \"Canada\", \"2\": \"USA\", \"3\": \"Australia\", \"4\": \"Denmark\"}\n",
    "}\n",
    "\n",
    "employees1 = pd.DataFrame(data1)\n",
    "\n",
    "data2 = {\n",
    "    \"age\": {\"1\": 25, \"2\": 32, \"3\": 19, \"4\": 23}\n",
    "}\n",
    "\n",
    "employees2 = pd.DataFrame(data2)\n",
    "employees = pd.concat([employees1, employees2], axis=1)\n",
    "print(employees1)\n",
    "print('='*50)\n",
    "print(employees2)\n",
    "print('='*50)\n",
    "print(employees)"
   ]
  },
  {
   "cell_type": "code",
   "execution_count": 12,
   "id": "a53acb01-c25f-4468-aec5-da05fd754c23",
   "metadata": {
    "tags": []
   },
   "outputs": [
    {
     "name": "stdout",
     "output_type": "stream",
     "text": [
      "   0    1    2\n",
      "0  1  2.0  3.0\n",
      "1  4  NaN  6.0\n",
      "2  7  NaN  NaN\n"
     ]
    }
   ],
   "source": [
    "import numpy as np\n",
    "import pandas as pd\n",
    "\n",
    "data = pd.DataFrame([[1, 2, 3], [4, np.nan, 6], [7, np.nan, np.nan]])\n",
    "print(data)"
   ]
  },
  {
   "cell_type": "code",
   "execution_count": 13,
   "id": "a2e5ae47-c8a3-4e52-80bc-1d32d26cfc8b",
   "metadata": {
    "tags": []
   },
   "outputs": [
    {
     "name": "stdout",
     "output_type": "stream",
     "text": [
      "   0    1    2\n",
      "0  1  2.0  3.0\n"
     ]
    }
   ],
   "source": [
    "data2 = data.dropna()\n",
    "print(data2)"
   ]
  },
  {
   "cell_type": "code",
   "execution_count": 14,
   "id": "e2d65905-93a1-4ca3-bc47-78a615d94375",
   "metadata": {
    "tags": []
   },
   "outputs": [
    {
     "name": "stdout",
     "output_type": "stream",
     "text": [
      "   0    1    2\n",
      "0  1  2.0  3.0\n",
      "1  4  NaN  6.0\n",
      "2  7  NaN  NaN\n"
     ]
    }
   ],
   "source": [
    "data3 = data.dropna(how='all')\n",
    "print(data3)"
   ]
  },
  {
   "cell_type": "code",
   "execution_count": 15,
   "id": "0bdb45cf-1907-4a9a-bcf9-bcd3fb0bf9fe",
   "metadata": {
    "tags": []
   },
   "outputs": [
    {
     "name": "stdout",
     "output_type": "stream",
     "text": [
      "   0    1    2\n",
      "0  1  2.0  3.0\n",
      "1  4  2.0  6.0\n",
      "2  7  2.0  4.5\n"
     ]
    }
   ],
   "source": [
    "data4 = data.fillna(\n",
    "    {\n",
    "        0: data[0].mean(),\n",
    "        1: data[1].mean(),\n",
    "        2: data[2].mean(),\n",
    "    }\n",
    ")\n",
    "print(data4)"
   ]
  },
  {
   "cell_type": "code",
   "execution_count": 16,
   "id": "565965ec-b619-4a25-9df0-0cecd455b31d",
   "metadata": {
    "tags": []
   },
   "outputs": [
    {
     "name": "stdout",
     "output_type": "stream",
     "text": [
      "      name    country  age\n",
      "0  Michael     Canada   25\n",
      "1    Steve        USA   32\n",
      "2     Liza  Australia   19\n",
      "3     Jhon    Denmark   23\n",
      "4     Liza  Australia   19\n",
      "5     Jhon    Denmark   23\n",
      "==================================================\n",
      "      name    country  age\n",
      "0  Michael     Canada   25\n",
      "1    Steve        USA   32\n",
      "2     Liza  Australia   19\n",
      "3     Jhon    Denmark   23\n"
     ]
    }
   ],
   "source": [
    "data = {\n",
    "    \"name\": [\"Michael\", \"Steve\", \"Liza\", \"Jhon\", \"Liza\", \"Jhon\"],\n",
    "    \"country\": [\"Canada\", \"USA\", \"Australia\", \"Denmark\", \"Australia\", \"Denmark\"],\n",
    "    \"age\": [25, 32, 19, 23, 19, 23]\n",
    "}\n",
    "employees = pd.DataFrame(data)\n",
    "\n",
    "employees2 = employees.drop_duplicates()\n",
    "print(employees)\n",
    "print('='*50)\n",
    "print(employees2)"
   ]
  },
  {
   "cell_type": "code",
   "execution_count": 17,
   "id": "c2138878-4119-469a-a299-8ff38edc37bc",
   "metadata": {
    "tags": []
   },
   "outputs": [
    {
     "name": "stdout",
     "output_type": "stream",
     "text": [
      "<class 'pandas._libs.tslibs.timestamps.Timestamp'>\n",
      "2021-09-20 00:00:00\n"
     ]
    }
   ],
   "source": [
    "date = pd.Timestamp(\"2021-09-20\")\n",
    "\n",
    "print(type(date))\n",
    "print(date)"
   ]
  },
  {
   "cell_type": "code",
   "execution_count": 18,
   "id": "96a9c70c-ffb2-4490-b2f7-d87253cdedcf",
   "metadata": {
    "tags": []
   },
   "outputs": [
    {
     "name": "stdout",
     "output_type": "stream",
     "text": [
      "<class 'pandas._libs.tslibs.timestamps.Timestamp'>\n",
      "2021-09-10 02:54:13\n"
     ]
    }
   ],
   "source": [
    "date = pd.to_datetime(\"2021-09-10 2:54:13\")\n",
    "print(type(date))\n",
    "print(date)"
   ]
  },
  {
   "cell_type": "code",
   "execution_count": 19,
   "id": "4b42c83b-e92d-4298-b92f-42a219fb11c0",
   "metadata": {
    "tags": []
   },
   "outputs": [
    {
     "name": "stdout",
     "output_type": "stream",
     "text": [
      "2021-09-01    23\n",
      "2021-09-02    17\n",
      "2021-09-03    17\n",
      "2021-09-04    16\n",
      "2021-09-05    15\n",
      "2021-09-06    14\n",
      "2021-09-07    17\n",
      "2021-09-08    20\n",
      "Freq: D, dtype: int64\n"
     ]
    }
   ],
   "source": [
    "date = pd.date_range(start='2021-09-01', freq='D', periods=8)\n",
    "\n",
    "temperature = pd.Series([23, 17, 17, 16, 15, 14, 17, 20], index=date)\n",
    "print(temperature)"
   ]
  },
  {
   "cell_type": "code",
   "execution_count": 20,
   "id": "ad4dd279-5657-440f-bbeb-7bcf7f1c3d31",
   "metadata": {
    "tags": []
   },
   "outputs": [
    {
     "data": {
      "image/png": "[encoded data removed]",
      "text/plain": [
       "<Figure size 640x480 with 1 Axes>"
      ]
     },
     "metadata": {},
     "output_type": "display_data"
    }
   ],
   "source": [
    "import matplotlib.pyplot as plt\n",
    "\n",
    "temperature.plot()\n",
    "plt.show()"
   ]
  }
 ],
 "metadata": {
  "kernelspec": {
   "display_name": "Python 3 (ipykernel)",
   "language": "python",
   "name": "python3"
  },
  "language_info": {
   "codemirror_mode": {
    "name": "ipython",
    "version": 3
   },
   "file_extension": ".py",
   "mimetype": "text/x-python",
   "name": "python",
   "nbconvert_exporter": "python",
   "pygments_lexer": "ipython3",
   "version": "3.11.5"
  }
 },
 "nbformat": 4,
 "nbformat_minor": 5
}
